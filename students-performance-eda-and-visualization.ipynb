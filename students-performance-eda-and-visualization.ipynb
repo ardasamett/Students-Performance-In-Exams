{
 "cells": [
  {
   "cell_type": "markdown",
   "metadata": {
    "papermill": {
     "duration": 0.029846,
     "end_time": "2021-04-15T07:12:45.452445",
     "exception": false,
     "start_time": "2021-04-15T07:12:45.422599",
     "status": "completed"
    },
    "tags": []
   },
   "source": [
    "<h1 style=\"text-align:center\">   \n",
    "      <font color = blue >\n",
    "                Students Performance: 📈 EDA and 📊 Visualization  \n",
    "        </font>    \n",
    "</h1>\n",
    "\n",
    "<hr style=\"width:100%;height:5px;border-width:0;color:gray;background-color:gray\"> \n",
    "\n"
   ]
  },
  {
   "cell_type": "markdown",
   "metadata": {
    "papermill": {
     "duration": 0.028074,
     "end_time": "2021-04-15T07:12:45.510398",
     "exception": false,
     "start_time": "2021-04-15T07:12:45.482324",
     "status": "completed"
    },
    "tags": []
   },
   "source": [
    "<center><h1 style =\"background: #e60000;border:0;color:white\">INTRODUCTION</h1></center><br>\n",
    "<br>\n",
    "<center><b><font color='black'>Hi! This is my first kernel and project. I benefited from many sources and learned a lot while preparing this kernel. I will be waiting for your feedback :). I will publish new versions with what I learned with your advice and feedback.</font></b></center>\n"
   ]
  },
  {
   "cell_type": "markdown",
   "metadata": {
    "papermill": {
     "duration": 0.027839,
     "end_time": "2021-04-15T07:12:45.567494",
     "exception": false,
     "start_time": "2021-04-15T07:12:45.539655",
     "status": "completed"
    },
    "tags": []
   },
   "source": [
    "<h2 style =\"background:#333399;border:0;color:white\"><b>Content:</b></h2>\n",
    "<font color = #333399>  \n",
    "\n",
    "1. [First Step](#0)\n",
    "    * [Import The Required Libraries](#1)\n",
    "    * [Load Dataset](#2)  \n",
    "    * [Copy Real Dataset](#3)\n",
    "    * [Data Frame Info And Missing Values](#4)\n",
    "    * [First look](#5)\n",
    "    * [Rename Columns](#6)\n",
    "    * [Create a new column (\"average_score\")](#7)\n",
    "    * [Describe Data Frame](#8)\n",
    "    * [Create a new column (\"grade\")](#9)\n",
    "    \n",
    "    \n",
    "2. [Visualization](#10)\n",
    "    * [Grade Pie Chart](#11)\n",
    "    * [Score Heatmap](#12)\n",
    "    * [Let's compare Grades and Gender](#99)\n",
    "    \n",
    "    \n",
    "3. [What I want to know ](#13)\n",
    "    * [Q1: What is the effect of gender and education level on average score?](#14)\n",
    "    * [Q2: What is the effect of gender and preparation course on average score?](#15)\n",
    "    * [Q3: Which group is the most successful? (on average_score)](#16)"
   ]
  },
  {
   "cell_type": "markdown",
   "metadata": {
    "papermill": {
     "duration": 0.028181,
     "end_time": "2021-04-15T07:12:45.625006",
     "exception": false,
     "start_time": "2021-04-15T07:12:45.596825",
     "status": "completed"
    },
    "tags": []
   },
   "source": [
    "<a id = \"0\" ></a>"
   ]
  },
  {
   "cell_type": "markdown",
   "metadata": {
    "papermill": {
     "duration": 0.027913,
     "end_time": "2021-04-15T07:12:45.681586",
     "exception": false,
     "start_time": "2021-04-15T07:12:45.653673",
     "status": "completed"
    },
    "tags": []
   },
   "source": [
    "<a id=\"1\"></a> <br>\n",
    "<h2 style =\"background:#c0f099;border:0;\">Import The Required Libraries</h2>"
   ]
  },
  {
   "cell_type": "code",
   "execution_count": 1,
   "metadata": {
    "execution": {
     "iopub.execute_input": "2021-04-15T07:12:45.746068Z",
     "iopub.status.busy": "2021-04-15T07:12:45.745311Z",
     "iopub.status.idle": "2021-04-15T07:12:46.761516Z",
     "shell.execute_reply": "2021-04-15T07:12:46.760687Z"
    },
    "papermill": {
     "duration": 1.050942,
     "end_time": "2021-04-15T07:12:46.761972",
     "exception": false,
     "start_time": "2021-04-15T07:12:45.711030",
     "status": "completed"
    },
    "tags": []
   },
   "outputs": [],
   "source": [
    "import numpy as np\n",
    "import pandas as pd \n",
    "import seaborn as sns \n",
    "import matplotlib.pyplot as plt\n",
    "import missingno as msno\n",
    "\n",
    "sns.set_palette(\"tab10\")"
   ]
  },
  {
   "cell_type": "markdown",
   "metadata": {
    "papermill": {
     "duration": 0.027863,
     "end_time": "2021-04-15T07:12:46.819706",
     "exception": false,
     "start_time": "2021-04-15T07:12:46.791843",
     "status": "completed"
    },
    "tags": []
   },
   "source": [
    "<a id=\"2\"></a> <br>\n",
    "<h2 style =\"background:#c0f099;border:0;\">Load Dataset</h2>"
   ]
  },
  {
   "cell_type": "code",
   "execution_count": 2,
   "metadata": {
    "execution": {
     "iopub.execute_input": "2021-04-15T07:12:46.882418Z",
     "iopub.status.busy": "2021-04-15T07:12:46.881758Z",
     "iopub.status.idle": "2021-04-15T07:12:46.903129Z",
     "shell.execute_reply": "2021-04-15T07:12:46.902462Z"
    },
    "papermill": {
     "duration": 0.055125,
     "end_time": "2021-04-15T07:12:46.903284",
     "exception": false,
     "start_time": "2021-04-15T07:12:46.848159",
     "status": "completed"
    },
    "tags": []
   },
   "outputs": [],
   "source": [
    "data = pd.read_csv(\"../input/students-performance-in-exams/StudentsPerformance.csv\")"
   ]
  },
  {
   "cell_type": "markdown",
   "metadata": {
    "papermill": {
     "duration": 0.02847,
     "end_time": "2021-04-15T07:12:46.962173",
     "exception": false,
     "start_time": "2021-04-15T07:12:46.933703",
     "status": "completed"
    },
    "tags": []
   },
   "source": [
    "<a id=\"3\"></a> <br>\n",
    "<h2 style =\"background:#c0f099;border:0;\">Copy Real Dataset</h2>"
   ]
  },
  {
   "cell_type": "code",
   "execution_count": 3,
   "metadata": {
    "execution": {
     "iopub.execute_input": "2021-04-15T07:12:47.028217Z",
     "iopub.status.busy": "2021-04-15T07:12:47.026990Z",
     "iopub.status.idle": "2021-04-15T07:12:47.030491Z",
     "shell.execute_reply": "2021-04-15T07:12:47.029838Z"
    },
    "papermill": {
     "duration": 0.038174,
     "end_time": "2021-04-15T07:12:47.030659",
     "exception": false,
     "start_time": "2021-04-15T07:12:46.992485",
     "status": "completed"
    },
    "tags": []
   },
   "outputs": [],
   "source": [
    "df = data.copy()"
   ]
  },
  {
   "cell_type": "markdown",
   "metadata": {
    "papermill": {
     "duration": 0.029757,
     "end_time": "2021-04-15T07:12:47.092622",
     "exception": false,
     "start_time": "2021-04-15T07:12:47.062865",
     "status": "completed"
    },
    "tags": []
   },
   "source": [
    "<a id=\"4\"></a> <br>\n",
    "<h2 style =\"background:#c0f099;border:0;\">Data Frame Info And Missing Values</h2>\n"
   ]
  },
  {
   "cell_type": "code",
   "execution_count": 4,
   "metadata": {
    "execution": {
     "iopub.execute_input": "2021-04-15T07:12:47.160267Z",
     "iopub.status.busy": "2021-04-15T07:12:47.159555Z",
     "iopub.status.idle": "2021-04-15T07:12:47.184077Z",
     "shell.execute_reply": "2021-04-15T07:12:47.183473Z"
    },
    "papermill": {
     "duration": 0.061781,
     "end_time": "2021-04-15T07:12:47.184242",
     "exception": false,
     "start_time": "2021-04-15T07:12:47.122461",
     "status": "completed"
    },
    "tags": []
   },
   "outputs": [
    {
     "name": "stdout",
     "output_type": "stream",
     "text": [
      "<class 'pandas.core.frame.DataFrame'>\n",
      "RangeIndex: 1000 entries, 0 to 999\n",
      "Data columns (total 8 columns):\n",
      " #   Column                       Non-Null Count  Dtype \n",
      "---  ------                       --------------  ----- \n",
      " 0   gender                       1000 non-null   object\n",
      " 1   race/ethnicity               1000 non-null   object\n",
      " 2   parental level of education  1000 non-null   object\n",
      " 3   lunch                        1000 non-null   object\n",
      " 4   test preparation course      1000 non-null   object\n",
      " 5   math score                   1000 non-null   int64 \n",
      " 6   reading score                1000 non-null   int64 \n",
      " 7   writing score                1000 non-null   int64 \n",
      "dtypes: int64(3), object(5)\n",
      "memory usage: 62.6+ KB\n"
     ]
    }
   ],
   "source": [
    "df.info()"
   ]
  },
  {
   "cell_type": "code",
   "execution_count": 5,
   "metadata": {
    "execution": {
     "iopub.execute_input": "2021-04-15T07:12:47.250212Z",
     "iopub.status.busy": "2021-04-15T07:12:47.249322Z",
     "iopub.status.idle": "2021-04-15T07:12:47.652905Z",
     "shell.execute_reply": "2021-04-15T07:12:47.652322Z"
    },
    "papermill": {
     "duration": 0.439164,
     "end_time": "2021-04-15T07:12:47.653054",
     "exception": false,
     "start_time": "2021-04-15T07:12:47.213890",
     "status": "completed"
    },
    "tags": []
   },
   "outputs": [
    {
     "data": {
      "image/png": "[encoded data removed]",
      "text/plain": [
       "<Figure size 1800x720 with 2 Axes>"
      ]
     },
     "metadata": {
      "needs_background": "light"
     },
     "output_type": "display_data"
    }
   ],
   "source": [
    "msno.matrix(df);"
   ]
  },
  {
   "cell_type": "markdown",
   "metadata": {
    "papermill": {
     "duration": 0.031539,
     "end_time": "2021-04-15T07:12:47.716246",
     "exception": false,
     "start_time": "2021-04-15T07:12:47.684707",
     "status": "completed"
    },
    "tags": []
   },
   "source": [
    "<font color=blue>>> </font><b>There seems to be no missing value</b>"
   ]
  },
  {
   "cell_type": "markdown",
   "metadata": {
    "papermill": {
     "duration": 0.031178,
     "end_time": "2021-04-15T07:12:47.779015",
     "exception": false,
     "start_time": "2021-04-15T07:12:47.747837",
     "status": "completed"
    },
    "tags": []
   },
   "source": [
    "<a id=\"5\"></a> <br>\n",
    "<h2 style =\"background:#c0f099;border:0;\">First look</h2>\n"
   ]
  },
  {
   "cell_type": "code",
   "execution_count": 6,
   "metadata": {
    "execution": {
     "iopub.execute_input": "2021-04-15T07:12:47.848550Z",
     "iopub.status.busy": "2021-04-15T07:12:47.847815Z",
     "iopub.status.idle": "2021-04-15T07:12:47.865699Z",
     "shell.execute_reply": "2021-04-15T07:12:47.866258Z"
    },
    "papermill": {
     "duration": 0.055701,
     "end_time": "2021-04-15T07:12:47.866450",
     "exception": false,
     "start_time": "2021-04-15T07:12:47.810749",
     "status": "completed"
    },
    "tags": []
   },
   "outputs": [
    {
     "data": {
      "text/html": [
       "<div>\n",
       "<style scoped>\n",
       "    .dataframe tbody tr th:only-of-type {\n",
       "        vertical-align: middle;\n",
       "    }\n",
       "\n",
       "    .dataframe tbody tr th {\n",
       "        vertical-align: top;\n",
       "    }\n",
       "\n",
       "    .dataframe thead th {\n",
       "        text-align: right;\n",
       "    }\n",
       "</style>\n",
       "<table border=\"1\" class=\"dataframe\">\n",
       "  <thead>\n",
       "    <tr style=\"text-align: right;\">\n",
       "      <th></th>\n",
       "      <th>gender</th>\n",
       "      <th>race/ethnicity</th>\n",
       "      <th>parental level of education</th>\n",
       "      <th>lunch</th>\n",
       "      <th>test preparation course</th>\n",
       "      <th>math score</th>\n",
       "      <th>reading score</th>\n",
       "      <th>writing score</th>\n",
       "    </tr>\n",
       "  </thead>\n",
       "  <tbody>\n",
       "    <tr>\n",
       "      <th>0</th>\n",
       "      <td>female</td>\n",
       "      <td>group B</td>\n",
       "      <td>bachelor's degree</td>\n",
       "      <td>standard</td>\n",
       "      <td>none</td>\n",
       "      <td>72</td>\n",
       "      <td>72</td>\n",
       "      <td>74</td>\n",
       "    </tr>\n",
       "    <tr>\n",
       "      <th>1</th>\n",
       "      <td>female</td>\n",
       "      <td>group C</td>\n",
       "      <td>some college</td>\n",
       "      <td>standard</td>\n",
       "      <td>completed</td>\n",
       "      <td>69</td>\n",
       "      <td>90</td>\n",
       "      <td>88</td>\n",
       "    </tr>\n",
       "    <tr>\n",
       "      <th>2</th>\n",
       "      <td>female</td>\n",
       "      <td>group B</td>\n",
       "      <td>master's degree</td>\n",
       "      <td>standard</td>\n",
       "      <td>none</td>\n",
       "      <td>90</td>\n",
       "      <td>95</td>\n",
       "      <td>93</td>\n",
       "    </tr>\n",
       "    <tr>\n",
       "      <th>3</th>\n",
       "      <td>male</td>\n",
       "      <td>group A</td>\n",
       "      <td>associate's degree</td>\n",
       "      <td>free/reduced</td>\n",
       "      <td>none</td>\n",
       "      <td>47</td>\n",
       "      <td>57</td>\n",
       "      <td>44</td>\n",
       "    </tr>\n",
       "    <tr>\n",
       "      <th>4</th>\n",
       "      <td>male</td>\n",
       "      <td>group C</td>\n",
       "      <td>some college</td>\n",
       "      <td>standard</td>\n",
       "      <td>none</td>\n",
       "      <td>76</td>\n",
       "      <td>78</td>\n",
       "      <td>75</td>\n",
       "    </tr>\n",
       "  </tbody>\n",
       "</table>\n",
       "</div>"
      ],
      "text/plain": [
       "   gender race/ethnicity parental level of education         lunch  \\\n",
       "0  female        group B           bachelor's degree      standard   \n",
       "1  female        group C                some college      standard   \n",
       "2  female        group B             master's degree      standard   \n",
       "3    male        group A          associate's degree  free/reduced   \n",
       "4    male        group C                some college      standard   \n",
       "\n",
       "  test preparation course  math score  reading score  writing score  \n",
       "0                    none          72             72             74  \n",
       "1               completed          69             90             88  \n",
       "2                    none          90             95             93  \n",
       "3                    none          47             57             44  \n",
       "4                    none          76             78             75  "
      ]
     },
     "execution_count": 6,
     "metadata": {},
     "output_type": "execute_result"
    }
   ],
   "source": [
    "df.head()"
   ]
  },
  {
   "cell_type": "markdown",
   "metadata": {
    "papermill": {
     "duration": 0.038763,
     "end_time": "2021-04-15T07:12:47.940236",
     "exception": false,
     "start_time": "2021-04-15T07:12:47.901473",
     "status": "completed"
    },
    "tags": []
   },
   "source": [
    "<font color=blue>>> </font><b>Data Frame looks okay. But it might be better if we change the column names.</b>"
   ]
  },
  {
   "cell_type": "code",
   "execution_count": 7,
   "metadata": {
    "execution": {
     "iopub.execute_input": "2021-04-15T07:12:48.029097Z",
     "iopub.status.busy": "2021-04-15T07:12:48.028093Z",
     "iopub.status.idle": "2021-04-15T07:12:48.033776Z",
     "shell.execute_reply": "2021-04-15T07:12:48.034273Z"
    },
    "papermill": {
     "duration": 0.052835,
     "end_time": "2021-04-15T07:12:48.034443",
     "exception": false,
     "start_time": "2021-04-15T07:12:47.981608",
     "status": "completed"
    },
    "tags": []
   },
   "outputs": [
    {
     "data": {
      "text/plain": [
       "Index(['gender', 'race/ethnicity', 'parental level of education', 'lunch',\n",
       "       'test preparation course', 'math score', 'reading score',\n",
       "       'writing score'],\n",
       "      dtype='object')"
      ]
     },
     "execution_count": 7,
     "metadata": {},
     "output_type": "execute_result"
    }
   ],
   "source": [
    "df.columns"
   ]
  },
  {
   "cell_type": "markdown",
   "metadata": {
    "papermill": {
     "duration": 0.032514,
     "end_time": "2021-04-15T07:12:48.099608",
     "exception": false,
     "start_time": "2021-04-15T07:12:48.067094",
     "status": "completed"
    },
    "tags": []
   },
   "source": [
    "<h2 style=\"text-align:center;\"> Information About Columns</h2>\n",
    "   <table style=\"width:100%\">\n",
    "     <tr>\n",
    "       <th>Column Name</th>\n",
    "       <th>Description</th>\n",
    "    </tr>\n",
    "    <tr>\n",
    "       <td>gender</td>\n",
    "       <td>Male/ Female</td>\n",
    "    </tr>\n",
    "     <tr>\n",
    "    <td>race/ethnicity</td>\n",
    "    <td>Group division from A to E</td>\n",
    "  </tr>\n",
    "  <tr>\n",
    "    <td>parental level of education</td>\n",
    "    <td>Details of parental education varying from high school to master's degree </td>\n",
    "  </tr>\n",
    "    <tr>\n",
    "    <td>lunch</td>\n",
    "    <td>Type of lunch selected</td>\n",
    "  </tr>\n",
    "    <tr>\n",
    "    <td>test preparation course</td>\n",
    "    <td>Course details</td>\n",
    "  </tr>\n",
    "    <tr>\n",
    "    <td>math score</td>\n",
    "    <td>Marks secured by a student in Mathematics</td>\n",
    "  </tr>\n",
    "    <tr>\n",
    "    <td>reading score</td>\n",
    "    <td>Marks secured by a student in Reading</td>\n",
    "  </tr>\n",
    "    <tr>\n",
    "    <td>writing score</td>\n",
    "    <td>Marks secured by a student in Writing</td>\n",
    "  </tr>\n",
    "</table>\n",
    "<a id = \"attribute\" ></a>"
   ]
  },
  {
   "cell_type": "markdown",
   "metadata": {
    "papermill": {
     "duration": 0.033013,
     "end_time": "2021-04-15T07:12:48.165122",
     "exception": false,
     "start_time": "2021-04-15T07:12:48.132109",
     "status": "completed"
    },
    "tags": []
   },
   "source": [
    "<a id=\"6\"></a> <br>\n",
    "<h2 style =\"background:#c0f099;border:0;\">Rename columns names for easier reading</h2>"
   ]
  },
  {
   "cell_type": "code",
   "execution_count": 8,
   "metadata": {
    "execution": {
     "iopub.execute_input": "2021-04-15T07:12:48.233184Z",
     "iopub.status.busy": "2021-04-15T07:12:48.232464Z",
     "iopub.status.idle": "2021-04-15T07:12:48.238763Z",
     "shell.execute_reply": "2021-04-15T07:12:48.239254Z"
    },
    "papermill": {
     "duration": 0.042116,
     "end_time": "2021-04-15T07:12:48.239460",
     "exception": false,
     "start_time": "2021-04-15T07:12:48.197344",
     "status": "completed"
    },
    "tags": []
   },
   "outputs": [],
   "source": [
    "df.rename(inplace= True,\n",
    "          columns={\"race/ethnicity\":\"race_ethnicity\",\n",
    "                   \"parental level of education\":\"education_level\",\n",
    "                   \"test preparation course\":\"prep_course\",\n",
    "                   \"math score\":\"math_score\",\n",
    "                   \"reading score\":\"reading_score\",\n",
    "                   \"writing score\":\"writing_score\"})"
   ]
  },
  {
   "cell_type": "markdown",
   "metadata": {
    "papermill": {
     "duration": 0.031754,
     "end_time": "2021-04-15T07:12:48.303590",
     "exception": false,
     "start_time": "2021-04-15T07:12:48.271836",
     "status": "completed"
    },
    "tags": []
   },
   "source": [
    "<a id=\"7\"></a> <br>\n",
    "<h2 style =\"background:#c0f099;border:0;\">Create a new column called \"average_score\" to see the scores together</h2>"
   ]
  },
  {
   "cell_type": "code",
   "execution_count": 9,
   "metadata": {
    "execution": {
     "iopub.execute_input": "2021-04-15T07:12:48.375457Z",
     "iopub.status.busy": "2021-04-15T07:12:48.374802Z",
     "iopub.status.idle": "2021-04-15T07:12:48.377874Z",
     "shell.execute_reply": "2021-04-15T07:12:48.377282Z"
    },
    "papermill": {
     "duration": 0.041844,
     "end_time": "2021-04-15T07:12:48.378022",
     "exception": false,
     "start_time": "2021-04-15T07:12:48.336178",
     "status": "completed"
    },
    "tags": []
   },
   "outputs": [],
   "source": [
    "df['average_score'] = df[['math_score', 'reading_score', 'writing_score']].mean(axis=1)"
   ]
  },
  {
   "cell_type": "markdown",
   "metadata": {
    "papermill": {
     "duration": 0.031992,
     "end_time": "2021-04-15T07:12:48.443449",
     "exception": false,
     "start_time": "2021-04-15T07:12:48.411457",
     "status": "completed"
    },
    "tags": []
   },
   "source": [
    "<a id=\"8\"></a> <br>\n",
    "<h2 style =\"background:#c0f099;border:0;\">Describe our dataset and understand basic information</h2>"
   ]
  },
  {
   "cell_type": "code",
   "execution_count": 10,
   "metadata": {
    "execution": {
     "iopub.execute_input": "2021-04-15T07:12:48.516944Z",
     "iopub.status.busy": "2021-04-15T07:12:48.516234Z",
     "iopub.status.idle": "2021-04-15T07:12:48.541315Z",
     "shell.execute_reply": "2021-04-15T07:12:48.540739Z"
    },
    "papermill": {
     "duration": 0.065429,
     "end_time": "2021-04-15T07:12:48.541459",
     "exception": false,
     "start_time": "2021-04-15T07:12:48.476030",
     "status": "completed"
    },
    "tags": []
   },
   "outputs": [
    {
     "data": {
      "text/html": [
       "<div>\n",
       "<style scoped>\n",
       "    .dataframe tbody tr th:only-of-type {\n",
       "        vertical-align: middle;\n",
       "    }\n",
       "\n",
       "    .dataframe tbody tr th {\n",
       "        vertical-align: top;\n",
       "    }\n",
       "\n",
       "    .dataframe thead th {\n",
       "        text-align: right;\n",
       "    }\n",
       "</style>\n",
       "<table border=\"1\" class=\"dataframe\">\n",
       "  <thead>\n",
       "    <tr style=\"text-align: right;\">\n",
       "      <th></th>\n",
       "      <th>count</th>\n",
       "      <th>mean</th>\n",
       "      <th>std</th>\n",
       "      <th>min</th>\n",
       "      <th>25%</th>\n",
       "      <th>50%</th>\n",
       "      <th>75%</th>\n",
       "      <th>max</th>\n",
       "    </tr>\n",
       "  </thead>\n",
       "  <tbody>\n",
       "    <tr>\n",
       "      <th>math_score</th>\n",
       "      <td>1000.0</td>\n",
       "      <td>66.089000</td>\n",
       "      <td>15.163080</td>\n",
       "      <td>0.0</td>\n",
       "      <td>57.000000</td>\n",
       "      <td>66.000000</td>\n",
       "      <td>77.000000</td>\n",
       "      <td>100.0</td>\n",
       "    </tr>\n",
       "    <tr>\n",
       "      <th>reading_score</th>\n",
       "      <td>1000.0</td>\n",
       "      <td>69.169000</td>\n",
       "      <td>14.600192</td>\n",
       "      <td>17.0</td>\n",
       "      <td>59.000000</td>\n",
       "      <td>70.000000</td>\n",
       "      <td>79.000000</td>\n",
       "      <td>100.0</td>\n",
       "    </tr>\n",
       "    <tr>\n",
       "      <th>writing_score</th>\n",
       "      <td>1000.0</td>\n",
       "      <td>68.054000</td>\n",
       "      <td>15.195657</td>\n",
       "      <td>10.0</td>\n",
       "      <td>57.750000</td>\n",
       "      <td>69.000000</td>\n",
       "      <td>79.000000</td>\n",
       "      <td>100.0</td>\n",
       "    </tr>\n",
       "    <tr>\n",
       "      <th>average_score</th>\n",
       "      <td>1000.0</td>\n",
       "      <td>67.770667</td>\n",
       "      <td>14.257326</td>\n",
       "      <td>9.0</td>\n",
       "      <td>58.333333</td>\n",
       "      <td>68.333333</td>\n",
       "      <td>77.666667</td>\n",
       "      <td>100.0</td>\n",
       "    </tr>\n",
       "  </tbody>\n",
       "</table>\n",
       "</div>"
      ],
      "text/plain": [
       "                count       mean        std   min        25%        50%  \\\n",
       "math_score     1000.0  66.089000  15.163080   0.0  57.000000  66.000000   \n",
       "reading_score  1000.0  69.169000  14.600192  17.0  59.000000  70.000000   \n",
       "writing_score  1000.0  68.054000  15.195657  10.0  57.750000  69.000000   \n",
       "average_score  1000.0  67.770667  14.257326   9.0  58.333333  68.333333   \n",
       "\n",
       "                     75%    max  \n",
       "math_score     77.000000  100.0  \n",
       "reading_score  79.000000  100.0  \n",
       "writing_score  79.000000  100.0  \n",
       "average_score  77.666667  100.0  "
      ]
     },
     "execution_count": 10,
     "metadata": {},
     "output_type": "execute_result"
    }
   ],
   "source": [
    "df.describe().T"
   ]
  },
  {
   "cell_type": "markdown",
   "metadata": {
    "papermill": {
     "duration": 0.034467,
     "end_time": "2021-04-15T07:12:48.609234",
     "exception": false,
     "start_time": "2021-04-15T07:12:48.574767",
     "status": "completed"
    },
    "tags": []
   },
   "source": [
    "<font color=blue>>> </font><b>Mean and std values are very similar between scores. We will examine this later.</b>"
   ]
  },
  {
   "cell_type": "markdown",
   "metadata": {
    "papermill": {
     "duration": 0.032938,
     "end_time": "2021-04-15T07:12:48.676051",
     "exception": false,
     "start_time": "2021-04-15T07:12:48.643113",
     "status": "completed"
    },
    "tags": []
   },
   "source": [
    "<a id=\"9\"></a> <br>\n",
    "<h2 style =\"background:#c0f099;border:0;\">Let us create a new column called \"grade\" and assign the grades</h2>"
   ]
  },
  {
   "cell_type": "code",
   "execution_count": 11,
   "metadata": {
    "execution": {
     "iopub.execute_input": "2021-04-15T07:12:48.747550Z",
     "iopub.status.busy": "2021-04-15T07:12:48.746460Z",
     "iopub.status.idle": "2021-04-15T07:12:48.768916Z",
     "shell.execute_reply": "2021-04-15T07:12:48.769387Z"
    },
    "papermill": {
     "duration": 0.060323,
     "end_time": "2021-04-15T07:12:48.769594",
     "exception": false,
     "start_time": "2021-04-15T07:12:48.709271",
     "status": "completed"
    },
    "tags": []
   },
   "outputs": [],
   "source": [
    "def Grade(AverageScore):\n",
    "    if (AverageScore >= 80):return 'A'\n",
    "    if (AverageScore >= 70):return 'B'\n",
    "    if (AverageScore >= 60):return 'C'\n",
    "    if (AverageScore >= 50):return 'D'\n",
    "    if (AverageScore >= 40):return 'E'\n",
    "    else: return 'F'\n",
    "    \n",
    "df[\"grade\"] = df.apply(lambda x : Grade(x[\"average_score\"]), axis=1)"
   ]
  },
  {
   "cell_type": "markdown",
   "metadata": {
    "papermill": {
     "duration": 0.033537,
     "end_time": "2021-04-15T07:12:48.836510",
     "exception": false,
     "start_time": "2021-04-15T07:12:48.802973",
     "status": "completed"
    },
    "tags": []
   },
   "source": [
    "<a id = \"10\" ></a>"
   ]
  },
  {
   "cell_type": "markdown",
   "metadata": {
    "papermill": {
     "duration": 0.033249,
     "end_time": "2021-04-15T07:12:48.903806",
     "exception": false,
     "start_time": "2021-04-15T07:12:48.870557",
     "status": "completed"
    },
    "tags": []
   },
   "source": [
    "<a id=\"11\"></a> <br>\n",
    "<h2 style =\"background:#c0f099;border:0;\">Let's create a simple pie chart to see the grade distributions.</h2>"
   ]
  },
  {
   "cell_type": "code",
   "execution_count": 12,
   "metadata": {
    "execution": {
     "iopub.execute_input": "2021-04-15T07:12:48.975043Z",
     "iopub.status.busy": "2021-04-15T07:12:48.973992Z",
     "iopub.status.idle": "2021-04-15T07:12:49.127809Z",
     "shell.execute_reply": "2021-04-15T07:12:49.128270Z"
    },
    "papermill": {
     "duration": 0.191485,
     "end_time": "2021-04-15T07:12:49.128456",
     "exception": false,
     "start_time": "2021-04-15T07:12:48.936971",
     "status": "completed"
    },
    "tags": []
   },
   "outputs": [
    {
     "data": {
      "image/png": "[encoded data removed]",
      "text/plain": [
       "<Figure size 1008x504 with 1 Axes>"
      ]
     },
     "metadata": {},
     "output_type": "display_data"
    }
   ],
   "source": [
    "plt.figure(figsize=(14, 7))\n",
    "labels=df['grade'].value_counts().index\n",
    "plt.pie(df['grade'].value_counts().values,labels=labels,explode=[0.02,0.02,0.02,0.02,0.02,0.02],colors=[\"#EC6173\", \"#F1AE4A\", \"#E1DD6E\", \"#51A350\", \"#6964FF\", \"#BD63BE\"],\n",
    "        autopct='%1.1f%%', startangle=90)\n",
    "plt.title('Grade Pie Chart',fontsize=20,pad=40)\n",
    "plt.axis('equal')\n",
    "plt.show()"
   ]
  },
  {
   "cell_type": "markdown",
   "metadata": {
    "papermill": {
     "duration": 0.034192,
     "end_time": "2021-04-15T07:12:49.197361",
     "exception": false,
     "start_time": "2021-04-15T07:12:49.163169",
     "status": "completed"
    },
    "tags": []
   },
   "source": [
    "<font color=blue>>> </font><b>The majority got \"B\" and \"C\" grades (% 51.7). If you remember when we describe the data frame, we already saw it. The mean value was 67. Also, \"A\" grade is high.</b>"
   ]
  },
  {
   "cell_type": "markdown",
   "metadata": {
    "papermill": {
     "duration": 0.034098,
     "end_time": "2021-04-15T07:12:49.266574",
     "exception": false,
     "start_time": "2021-04-15T07:12:49.232476",
     "status": "completed"
    },
    "tags": []
   },
   "source": [
    "<a id=\"99\"></a> <br>\n",
    "<h2 style =\"background:#c0f099;border:0;\">Let's compare Grades and Gender </h2>"
   ]
  },
  {
   "cell_type": "code",
   "execution_count": 13,
   "metadata": {
    "_kg_hide-input": false,
    "execution": {
     "iopub.execute_input": "2021-04-15T07:12:49.340157Z",
     "iopub.status.busy": "2021-04-15T07:12:49.339165Z",
     "iopub.status.idle": "2021-04-15T07:12:49.641778Z",
     "shell.execute_reply": "2021-04-15T07:12:49.642241Z"
    },
    "papermill": {
     "duration": 0.341587,
     "end_time": "2021-04-15T07:12:49.642436",
     "exception": false,
     "start_time": "2021-04-15T07:12:49.300849",
     "status": "completed"
    },
    "tags": []
   },
   "outputs": [
    {
     "data": {
      "image/png": "[encoded data removed]",
      "text/plain": [
       "<Figure size 720x360 with 1 Axes>"
      ]
     },
     "metadata": {
      "needs_background": "light"
     },
     "output_type": "display_data"
    }
   ],
   "source": [
    "plt.figure(figsize=(10,5))\n",
    "ax = sns.countplot(y=\"grade\", hue=\"gender\", data=df, order=[\"A\",\"B\",\"C\",\"D\",\"E\",\"F\"], palette=\"tab20c_r\")\n",
    "plt.title('Gender vs Grades', fontsize=18,pad=20)\n",
    "plt.xlabel(\"Count\")\n",
    "plt.ylabel(\"Grade\")\n",
    "plt.show()"
   ]
  },
  {
   "cell_type": "markdown",
   "metadata": {
    "papermill": {
     "duration": 0.03517,
     "end_time": "2021-04-15T07:12:49.712895",
     "exception": false,
     "start_time": "2021-04-15T07:12:49.677725",
     "status": "completed"
    },
    "tags": []
   },
   "source": [
    "<a id=\"12\"></a> <br>\n",
    "<h2 style =\"background:#c0f099;border:0;\">Take a look at Score Heatmap</h2>"
   ]
  },
  {
   "cell_type": "code",
   "execution_count": 14,
   "metadata": {
    "_kg_hide-input": false,
    "execution": {
     "iopub.execute_input": "2021-04-15T07:12:49.788239Z",
     "iopub.status.busy": "2021-04-15T07:12:49.787262Z",
     "iopub.status.idle": "2021-04-15T07:12:50.065773Z",
     "shell.execute_reply": "2021-04-15T07:12:50.066283Z"
    },
    "papermill": {
     "duration": 0.317997,
     "end_time": "2021-04-15T07:12:50.066500",
     "exception": false,
     "start_time": "2021-04-15T07:12:49.748503",
     "status": "completed"
    },
    "tags": []
   },
   "outputs": [
    {
     "data": {
      "image/png": "[encoded data removed]",
      "text/plain": [
       "<Figure size 504x504 with 2 Axes>"
      ]
     },
     "metadata": {
      "needs_background": "light"
     },
     "output_type": "display_data"
    }
   ],
   "source": [
    "plt.figure(figsize=(7,7))\n",
    "plt.title('Score Heatmap',color='Black',fontsize=20,pad=40)\n",
    "sns.heatmap(df.corr(),annot=True,linewidths=.5);"
   ]
  },
  {
   "cell_type": "markdown",
   "metadata": {
    "papermill": {
     "duration": 0.038846,
     "end_time": "2021-04-15T07:12:50.143020",
     "exception": false,
     "start_time": "2021-04-15T07:12:50.104174",
     "status": "completed"
    },
    "tags": []
   },
   "source": [
    "<font color=blue>>> </font><b>I see that the scores are very close to each other. There is not much difference between them. Students seem to have an average success in all 3 areas(math,reading,writing).</b>"
   ]
  },
  {
   "cell_type": "markdown",
   "metadata": {
    "papermill": {
     "duration": 0.036195,
     "end_time": "2021-04-15T07:12:50.216003",
     "exception": false,
     "start_time": "2021-04-15T07:12:50.179808",
     "status": "completed"
    },
    "tags": []
   },
   "source": [
    "<a id=\"13\"></a> <br>\n",
    "<center><h1 style =\"background: #e60000;border:0;color:white\">What I want to know</h1></center><br>"
   ]
  },
  {
   "cell_type": "markdown",
   "metadata": {
    "papermill": {
     "duration": 0.036296,
     "end_time": "2021-04-15T07:12:50.288872",
     "exception": false,
     "start_time": "2021-04-15T07:12:50.252576",
     "status": "completed"
    },
    "tags": []
   },
   "source": [
    "<a id=\"14\"></a> <br>\n",
    "<h2 style =\"background:#9cfefa;border:0;\"><font color=\"grey\">Q1: </font>What is the effect of gender and education level on average score?</h2>"
   ]
  },
  {
   "cell_type": "code",
   "execution_count": 15,
   "metadata": {
    "_kg_hide-input": false,
    "execution": {
     "iopub.execute_input": "2021-04-15T07:12:50.367838Z",
     "iopub.status.busy": "2021-04-15T07:12:50.366791Z",
     "iopub.status.idle": "2021-04-15T07:12:51.137731Z",
     "shell.execute_reply": "2021-04-15T07:12:51.138258Z"
    },
    "papermill": {
     "duration": 0.812135,
     "end_time": "2021-04-15T07:12:51.138444",
     "exception": false,
     "start_time": "2021-04-15T07:12:50.326309",
     "status": "completed"
    },
    "tags": []
   },
   "outputs": [
    {
     "data": {
      "image/png": "[encoded data removed]",
      "text/plain": [
       "<Figure size 489.375x360 with 1 Axes>"
      ]
     },
     "metadata": {
      "needs_background": "light"
     },
     "output_type": "display_data"
    }
   ],
   "source": [
    "sns.catplot(data=df,x=\"gender\",y=\"average_score\",hue=\"education_level\",kind=\"bar\",height=5, palette=\"CMRmap\");"
   ]
  },
  {
   "cell_type": "markdown",
   "metadata": {
    "papermill": {
     "duration": 0.038579,
     "end_time": "2021-04-15T07:12:51.217096",
     "exception": false,
     "start_time": "2021-04-15T07:12:51.178517",
     "status": "completed"
    },
    "tags": []
   },
   "source": [
    "<font color=blue>>> </font><b>Women with a bachelor's degree are more successful and the same can be said for women with a master's degree.\n",
    "Men with a master's degree are more successful, but we cannot say this for men with a bachelor's degree.</b>"
   ]
  },
  {
   "cell_type": "markdown",
   "metadata": {
    "papermill": {
     "duration": 0.038164,
     "end_time": "2021-04-15T07:12:51.293187",
     "exception": false,
     "start_time": "2021-04-15T07:12:51.255023",
     "status": "completed"
    },
    "tags": []
   },
   "source": [
    "### -----------------------------------------------------------------------------------------"
   ]
  },
  {
   "cell_type": "markdown",
   "metadata": {
    "papermill": {
     "duration": 0.037696,
     "end_time": "2021-04-15T07:12:51.368805",
     "exception": false,
     "start_time": "2021-04-15T07:12:51.331109",
     "status": "completed"
    },
    "tags": []
   },
   "source": [
    "<a id=\"15\"></a> <br>\n",
    "<h2 style =\"background:#9cfefa;border:0;\"><font color=\"grey\">Q2: </font>What is the effect of gender and preparation course on average score?</h2>"
   ]
  },
  {
   "cell_type": "code",
   "execution_count": 16,
   "metadata": {
    "_kg_hide-input": false,
    "execution": {
     "iopub.execute_input": "2021-04-15T07:12:51.448382Z",
     "iopub.status.busy": "2021-04-15T07:12:51.447621Z",
     "iopub.status.idle": "2021-04-15T07:12:51.888397Z",
     "shell.execute_reply": "2021-04-15T07:12:51.888928Z"
    },
    "papermill": {
     "duration": 0.482498,
     "end_time": "2021-04-15T07:12:51.889129",
     "exception": false,
     "start_time": "2021-04-15T07:12:51.406631",
     "status": "completed"
    },
    "tags": []
   },
   "outputs": [
    {
     "data": {
      "image/png": "[encoded data removed]",
      "text/plain": [
       "<Figure size 448.75x360 with 1 Axes>"
      ]
     },
     "metadata": {
      "needs_background": "light"
     },
     "output_type": "display_data"
    }
   ],
   "source": [
    "sns.catplot(data=df,x=\"gender\",y=\"average_score\",hue=\"prep_course\",kind=\"bar\",height=5,palette=\"CMRmap\");"
   ]
  },
  {
   "cell_type": "markdown",
   "metadata": {
    "papermill": {
     "duration": 0.039392,
     "end_time": "2021-04-15T07:12:51.970465",
     "exception": false,
     "start_time": "2021-04-15T07:12:51.931073",
     "status": "completed"
    },
    "tags": []
   },
   "source": [
    "<font color=blue>>> </font><b>Students who complete the preparation course are more successful. However, I think this difference is not a big deal</b>"
   ]
  },
  {
   "cell_type": "markdown",
   "metadata": {
    "papermill": {
     "duration": 0.039642,
     "end_time": "2021-04-15T07:12:52.050476",
     "exception": false,
     "start_time": "2021-04-15T07:12:52.010834",
     "status": "completed"
    },
    "tags": []
   },
   "source": [
    "### -----------------------------------------------------------------------------------------"
   ]
  },
  {
   "cell_type": "markdown",
   "metadata": {
    "papermill": {
     "duration": 0.039597,
     "end_time": "2021-04-15T07:12:52.131169",
     "exception": false,
     "start_time": "2021-04-15T07:12:52.091572",
     "status": "completed"
    },
    "tags": []
   },
   "source": [
    "<a id = \"16\" ></a>\n",
    "<h2 style =\"background:#9cfefa;border:0;\"><font color=\"grey\">Q3:</font> Which group is the most successful? (on average_score)</h2>\n"
   ]
  },
  {
   "cell_type": "code",
   "execution_count": 17,
   "metadata": {
    "_kg_hide-input": false,
    "execution": {
     "iopub.execute_input": "2021-04-15T07:12:52.212088Z",
     "iopub.status.busy": "2021-04-15T07:12:52.211270Z",
     "iopub.status.idle": "2021-04-15T07:12:52.518714Z",
     "shell.execute_reply": "2021-04-15T07:12:52.519336Z"
    },
    "papermill": {
     "duration": 0.349711,
     "end_time": "2021-04-15T07:12:52.519517",
     "exception": false,
     "start_time": "2021-04-15T07:12:52.169806",
     "status": "completed"
    },
    "tags": []
   },
   "outputs": [
    {
     "data": {
      "image/png": "[encoded data removed]",
      "text/plain": [
       "<Figure size 432x288 with 1 Axes>"
      ]
     },
     "metadata": {
      "needs_background": "light"
     },
     "output_type": "display_data"
    }
   ],
   "source": [
    "sns.barplot(x='race_ethnicity',y='average_score',data=df,palette=\"CMRmap\");"
   ]
  },
  {
   "cell_type": "markdown",
   "metadata": {
    "papermill": {
     "duration": 0.039142,
     "end_time": "2021-04-15T07:12:52.598101",
     "exception": false,
     "start_time": "2021-04-15T07:12:52.558959",
     "status": "completed"
    },
    "tags": []
   },
   "source": [
    "<font color=blue>>> </font><b>group E is the most successful group. However, why?. I will do some research.</b>"
   ]
  },
  {
   "cell_type": "code",
   "execution_count": 18,
   "metadata": {
    "_kg_hide-input": false,
    "execution": {
     "iopub.execute_input": "2021-04-15T07:12:52.681163Z",
     "iopub.status.busy": "2021-04-15T07:12:52.680215Z",
     "iopub.status.idle": "2021-04-15T07:12:52.726888Z",
     "shell.execute_reply": "2021-04-15T07:12:52.726270Z"
    },
    "papermill": {
     "duration": 0.089134,
     "end_time": "2021-04-15T07:12:52.727039",
     "exception": false,
     "start_time": "2021-04-15T07:12:52.637905",
     "status": "completed"
    },
    "tags": []
   },
   "outputs": [
    {
     "data": {
      "text/html": [
       "<div>\n",
       "<style scoped>\n",
       "    .dataframe tbody tr th:only-of-type {\n",
       "        vertical-align: middle;\n",
       "    }\n",
       "\n",
       "    .dataframe tbody tr th {\n",
       "        vertical-align: top;\n",
       "    }\n",
       "\n",
       "    .dataframe thead th {\n",
       "        text-align: right;\n",
       "    }\n",
       "</style>\n",
       "<table border=\"1\" class=\"dataframe\">\n",
       "  <thead>\n",
       "    <tr style=\"text-align: right;\">\n",
       "      <th></th>\n",
       "      <th>count</th>\n",
       "      <th>unique</th>\n",
       "      <th>top</th>\n",
       "      <th>freq</th>\n",
       "    </tr>\n",
       "    <tr>\n",
       "      <th>race_ethnicity</th>\n",
       "      <th></th>\n",
       "      <th></th>\n",
       "      <th></th>\n",
       "      <th></th>\n",
       "    </tr>\n",
       "  </thead>\n",
       "  <tbody>\n",
       "    <tr>\n",
       "      <th>group A</th>\n",
       "      <td>89</td>\n",
       "      <td>6</td>\n",
       "      <td>some high school</td>\n",
       "      <td>24</td>\n",
       "    </tr>\n",
       "    <tr>\n",
       "      <th>group B</th>\n",
       "      <td>190</td>\n",
       "      <td>6</td>\n",
       "      <td>high school</td>\n",
       "      <td>48</td>\n",
       "    </tr>\n",
       "    <tr>\n",
       "      <th>group C</th>\n",
       "      <td>319</td>\n",
       "      <td>6</td>\n",
       "      <td>associate's degree</td>\n",
       "      <td>78</td>\n",
       "    </tr>\n",
       "    <tr>\n",
       "      <th>group D</th>\n",
       "      <td>262</td>\n",
       "      <td>6</td>\n",
       "      <td>some college</td>\n",
       "      <td>67</td>\n",
       "    </tr>\n",
       "    <tr>\n",
       "      <th>group E</th>\n",
       "      <td>140</td>\n",
       "      <td>6</td>\n",
       "      <td>associate's degree</td>\n",
       "      <td>39</td>\n",
       "    </tr>\n",
       "  </tbody>\n",
       "</table>\n",
       "</div>"
      ],
      "text/plain": [
       "               count unique                 top freq\n",
       "race_ethnicity                                      \n",
       "group A           89      6    some high school   24\n",
       "group B          190      6         high school   48\n",
       "group C          319      6  associate's degree   78\n",
       "group D          262      6        some college   67\n",
       "group E          140      6  associate's degree   39"
      ]
     },
     "execution_count": 18,
     "metadata": {},
     "output_type": "execute_result"
    }
   ],
   "source": [
    "df.groupby(\"race_ethnicity\")[\"education_level\"].describe()"
   ]
  },
  {
   "cell_type": "code",
   "execution_count": 19,
   "metadata": {
    "_kg_hide-input": false,
    "execution": {
     "iopub.execute_input": "2021-04-15T07:12:52.838392Z",
     "iopub.status.busy": "2021-04-15T07:12:52.837359Z",
     "iopub.status.idle": "2021-04-15T07:12:52.842421Z",
     "shell.execute_reply": "2021-04-15T07:12:52.841695Z"
    },
    "papermill": {
     "duration": 0.074537,
     "end_time": "2021-04-15T07:12:52.842601",
     "exception": false,
     "start_time": "2021-04-15T07:12:52.768064",
     "status": "completed"
    },
    "tags": []
   },
   "outputs": [
    {
     "data": {
      "text/html": [
       "<div>\n",
       "<style scoped>\n",
       "    .dataframe tbody tr th:only-of-type {\n",
       "        vertical-align: middle;\n",
       "    }\n",
       "\n",
       "    .dataframe tbody tr th {\n",
       "        vertical-align: top;\n",
       "    }\n",
       "\n",
       "    .dataframe thead th {\n",
       "        text-align: right;\n",
       "    }\n",
       "</style>\n",
       "<table border=\"1\" class=\"dataframe\">\n",
       "  <thead>\n",
       "    <tr style=\"text-align: right;\">\n",
       "      <th></th>\n",
       "      <th>count</th>\n",
       "      <th>unique</th>\n",
       "      <th>top</th>\n",
       "      <th>freq</th>\n",
       "    </tr>\n",
       "    <tr>\n",
       "      <th>race_ethnicity</th>\n",
       "      <th></th>\n",
       "      <th></th>\n",
       "      <th></th>\n",
       "      <th></th>\n",
       "    </tr>\n",
       "  </thead>\n",
       "  <tbody>\n",
       "    <tr>\n",
       "      <th>group A</th>\n",
       "      <td>89</td>\n",
       "      <td>2</td>\n",
       "      <td>none</td>\n",
       "      <td>58</td>\n",
       "    </tr>\n",
       "    <tr>\n",
       "      <th>group B</th>\n",
       "      <td>190</td>\n",
       "      <td>2</td>\n",
       "      <td>none</td>\n",
       "      <td>122</td>\n",
       "    </tr>\n",
       "    <tr>\n",
       "      <th>group C</th>\n",
       "      <td>319</td>\n",
       "      <td>2</td>\n",
       "      <td>none</td>\n",
       "      <td>202</td>\n",
       "    </tr>\n",
       "    <tr>\n",
       "      <th>group D</th>\n",
       "      <td>262</td>\n",
       "      <td>2</td>\n",
       "      <td>none</td>\n",
       "      <td>180</td>\n",
       "    </tr>\n",
       "    <tr>\n",
       "      <th>group E</th>\n",
       "      <td>140</td>\n",
       "      <td>2</td>\n",
       "      <td>none</td>\n",
       "      <td>80</td>\n",
       "    </tr>\n",
       "  </tbody>\n",
       "</table>\n",
       "</div>"
      ],
      "text/plain": [
       "               count unique   top freq\n",
       "race_ethnicity                        \n",
       "group A           89      2  none   58\n",
       "group B          190      2  none  122\n",
       "group C          319      2  none  202\n",
       "group D          262      2  none  180\n",
       "group E          140      2  none   80"
      ]
     },
     "execution_count": 19,
     "metadata": {},
     "output_type": "execute_result"
    }
   ],
   "source": [
    "df.groupby(\"race_ethnicity\")[\"prep_course\"].describe()"
   ]
  },
  {
   "cell_type": "code",
   "execution_count": 20,
   "metadata": {
    "execution": {
     "iopub.execute_input": "2021-04-15T07:12:52.932024Z",
     "iopub.status.busy": "2021-04-15T07:12:52.931298Z",
     "iopub.status.idle": "2021-04-15T07:12:52.953961Z",
     "shell.execute_reply": "2021-04-15T07:12:52.954478Z"
    },
    "papermill": {
     "duration": 0.069344,
     "end_time": "2021-04-15T07:12:52.954686",
     "exception": false,
     "start_time": "2021-04-15T07:12:52.885342",
     "status": "completed"
    },
    "tags": []
   },
   "outputs": [
    {
     "data": {
      "text/html": [
       "<div>\n",
       "<style scoped>\n",
       "    .dataframe tbody tr th:only-of-type {\n",
       "        vertical-align: middle;\n",
       "    }\n",
       "\n",
       "    .dataframe tbody tr th {\n",
       "        vertical-align: top;\n",
       "    }\n",
       "\n",
       "    .dataframe thead th {\n",
       "        text-align: right;\n",
       "    }\n",
       "</style>\n",
       "<table border=\"1\" class=\"dataframe\">\n",
       "  <thead>\n",
       "    <tr style=\"text-align: right;\">\n",
       "      <th></th>\n",
       "      <th>count</th>\n",
       "      <th>unique</th>\n",
       "      <th>top</th>\n",
       "      <th>freq</th>\n",
       "    </tr>\n",
       "    <tr>\n",
       "      <th>race_ethnicity</th>\n",
       "      <th></th>\n",
       "      <th></th>\n",
       "      <th></th>\n",
       "      <th></th>\n",
       "    </tr>\n",
       "  </thead>\n",
       "  <tbody>\n",
       "    <tr>\n",
       "      <th>group A</th>\n",
       "      <td>89</td>\n",
       "      <td>6</td>\n",
       "      <td>D</td>\n",
       "      <td>24</td>\n",
       "    </tr>\n",
       "    <tr>\n",
       "      <th>group B</th>\n",
       "      <td>190</td>\n",
       "      <td>6</td>\n",
       "      <td>C</td>\n",
       "      <td>58</td>\n",
       "    </tr>\n",
       "    <tr>\n",
       "      <th>group C</th>\n",
       "      <td>319</td>\n",
       "      <td>6</td>\n",
       "      <td>B</td>\n",
       "      <td>87</td>\n",
       "    </tr>\n",
       "    <tr>\n",
       "      <th>group D</th>\n",
       "      <td>262</td>\n",
       "      <td>6</td>\n",
       "      <td>B</td>\n",
       "      <td>79</td>\n",
       "    </tr>\n",
       "    <tr>\n",
       "      <th>group E</th>\n",
       "      <td>140</td>\n",
       "      <td>6</td>\n",
       "      <td>A</td>\n",
       "      <td>44</td>\n",
       "    </tr>\n",
       "  </tbody>\n",
       "</table>\n",
       "</div>"
      ],
      "text/plain": [
       "               count unique top freq\n",
       "race_ethnicity                      \n",
       "group A           89      6   D   24\n",
       "group B          190      6   C   58\n",
       "group C          319      6   B   87\n",
       "group D          262      6   B   79\n",
       "group E          140      6   A   44"
      ]
     },
     "execution_count": 20,
     "metadata": {},
     "output_type": "execute_result"
    }
   ],
   "source": [
    "df.groupby(\"race_ethnicity\")[\"grade\"].describe()"
   ]
  },
  {
   "cell_type": "markdown",
   "metadata": {
    "papermill": {
     "duration": 0.042779,
     "end_time": "2021-04-15T07:12:53.039189",
     "exception": false,
     "start_time": "2021-04-15T07:12:52.996410",
     "status": "completed"
    },
    "tags": []
   },
   "source": [
    "<font color=blue>>> </font><b>I looked at the \"education_level, prep_course, grade\" data of group E and I couldn't get anything from the \"education_level, prep_course\" values, but when I look at the \"grade\" values, the A grade frequency of \"group E\" is 44 (% 61.6 of group e students are A have grade). I think I found out why group E was successful</b>\n",
    "\n",
    "<b>in this case, we can look at their distribution</b>"
   ]
  },
  {
   "cell_type": "code",
   "execution_count": 21,
   "metadata": {
    "_kg_hide-input": false,
    "execution": {
     "iopub.execute_input": "2021-04-15T07:12:53.129508Z",
     "iopub.status.busy": "2021-04-15T07:12:53.128817Z",
     "iopub.status.idle": "2021-04-15T07:12:53.566331Z",
     "shell.execute_reply": "2021-04-15T07:12:53.566845Z"
    },
    "papermill": {
     "duration": 0.484807,
     "end_time": "2021-04-15T07:12:53.567044",
     "exception": false,
     "start_time": "2021-04-15T07:12:53.082237",
     "status": "completed"
    },
    "tags": []
   },
   "outputs": [
    {
     "data": {
      "image/png": "[encoded data removed]",
      "text/plain": [
       "<Figure size 438.625x360 with 1 Axes>"
      ]
     },
     "metadata": {
      "needs_background": "light"
     },
     "output_type": "display_data"
    }
   ],
   "source": [
    "(sns\n",
    " .FacetGrid(df,\n",
    "              hue=\"race_ethnicity\",palette=\"CMRmap\",\n",
    "              height=5,\n",
    "              xlim = (0,100))\n",
    " .map(sns.kdeplot, \"average_score\")\n",
    " .add_legend());"
   ]
  },
  {
   "cell_type": "markdown",
   "metadata": {
    "papermill": {
     "duration": 0.043738,
     "end_time": "2021-04-15T07:12:53.656752",
     "exception": false,
     "start_time": "2021-04-15T07:12:53.613014",
     "status": "completed"
    },
    "tags": []
   },
   "source": [
    "<font color=blue>>> </font><b>Certainly group e is much more successful than other students on \"average_score\".</b>"
   ]
  },
  {
   "cell_type": "code",
   "execution_count": 22,
   "metadata": {
    "_kg_hide-input": false,
    "execution": {
     "iopub.execute_input": "2021-04-15T07:12:53.751455Z",
     "iopub.status.busy": "2021-04-15T07:12:53.750633Z",
     "iopub.status.idle": "2021-04-15T07:12:55.278268Z",
     "shell.execute_reply": "2021-04-15T07:12:55.277682Z"
    },
    "papermill": {
     "duration": 1.578744,
     "end_time": "2021-04-15T07:12:55.278419",
     "exception": false,
     "start_time": "2021-04-15T07:12:53.699675",
     "status": "completed"
    },
    "tags": []
   },
   "outputs": [
    {
     "data": {
      "image/png": "[encoded data removed]",
      "text/plain": [
       "<Figure size 403.75x360 with 1 Axes>"
      ]
     },
     "metadata": {
      "needs_background": "light"
     },
     "output_type": "display_data"
    }
   ],
   "source": [
    "sns.catplot(x=\"race_ethnicity\",y=\"average_score\",hue=\"grade\",kind=\"point\",data=df,palette=\"CMRmap\");"
   ]
  },
  {
   "cell_type": "markdown",
   "metadata": {
    "papermill": {
     "duration": 0.043697,
     "end_time": "2021-04-15T07:12:55.366489",
     "exception": false,
     "start_time": "2021-04-15T07:12:55.322792",
     "status": "completed"
    },
    "tags": []
   },
   "source": [
    "<font color=blue>>> </font><b>If you look at \"group E\" carefully, we can see that the number of students with low grades is low, but the number of students with high grades is high.</b>"
   ]
  },
  {
   "cell_type": "markdown",
   "metadata": {
    "papermill": {
     "duration": 0.043963,
     "end_time": "2021-04-15T07:12:55.454654",
     "exception": false,
     "start_time": "2021-04-15T07:12:55.410691",
     "status": "completed"
    },
    "tags": []
   },
   "source": [
    "**In this case, we are now confident that \"group E\" students are successful with a noticeable difference.**"
   ]
  },
  {
   "cell_type": "markdown",
   "metadata": {
    "papermill": {
     "duration": 0.044187,
     "end_time": "2021-04-15T07:12:55.543117",
     "exception": false,
     "start_time": "2021-04-15T07:12:55.498930",
     "status": "completed"
    },
    "tags": []
   },
   "source": [
    "\n",
    "<center><h2 style =\"background:#fddcc6;border:0;\">If you like this notebook an upvote will be appreciated.</h2></center>"
   ]
  },
  {
   "cell_type": "code",
   "execution_count": null,
   "metadata": {
    "papermill": {
     "duration": 0.043726,
     "end_time": "2021-04-15T07:12:55.631301",
     "exception": false,
     "start_time": "2021-04-15T07:12:55.587575",
     "status": "completed"
    },
    "tags": []
   },
   "outputs": [],
   "source": []
  }
 ],
 "metadata": {
  "kernelspec": {
   "display_name": "Python 3",
   "language": "python",
   "name": "python3"
  },
  "language_info": {
   "codemirror_mode": {
    "name": "ipython",
    "version": 3
   },
   "file_extension": ".py",
   "mimetype": "text/x-python",
   "name": "python",
   "nbconvert_exporter": "python",
   "pygments_lexer": "ipython3",
   "version": "3.7.9"
  },
  "papermill": {
   "default_parameters": {},
   "duration": 17.228229,
   "end_time": "2021-04-15T07:12:56.392177",
   "environment_variables": {},
   "exception": null,
   "input_path": "__notebook__.ipynb",
   "output_path": "__notebook__.ipynb",
   "parameters": {},
   "start_time": "2021-04-15T07:12:39.163948",
   "version": "2.2.2"
  }
 },
 "nbformat": 4,
 "nbformat_minor": 4
}
